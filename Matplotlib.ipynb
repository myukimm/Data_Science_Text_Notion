{
  "nbformat": 4,
  "nbformat_minor": 0,
  "metadata": {
    "colab": {
      "provenance": []
    },
    "kernelspec": {
      "name": "python3",
      "display_name": "Python 3"
    },
    "language_info": {
      "name": "python"
    }
  },
  "cells": [
    {
      "cell_type": "markdown",
      "source": [
        "# Matplotlib"
      ],
      "metadata": {
        "id": "4jWKXGNsdYyF"
      }
    },
    {
      "cell_type": "markdown",
      "source": [
        "### 맷플롯립 무작정 사용해 보기"
      ],
      "metadata": {
        "id": "_uaSJl41dia-"
      }
    },
    {
      "cell_type": "markdown",
      "source": [
        "데이터를 시각화하기 위한 많은 도구가 파이썬에 있지만 우리는 matplotlib 라이브러리를 사용한다. matplotlib은 가장 널리 사용되는 시각화 도구이다. 간단한 막대 그래프, 선 그래프, 산포도를 그리는 용도로는 matplotlib가 제격이다. 이번 장에서는 주로 matplotlib을 이용하여 다양한 종류의 차트를 만들어보자. 우리는 matplotlib.pyplot 모듈을 사용할 것이다. 예를 들어 다음과 같은 단순한 차트를 만드는 것이 비교적 간단하다."
      ],
      "metadata": {
        "id": "ev9lGfCtdido"
      }
    },
    {
      "cell_type": "code",
      "execution_count": 1,
      "metadata": {
        "colab": {
          "base_uri": "https://localhost:8080/",
          "height": 281
        },
        "id": "yypyWu94dG-b",
        "outputId": "17bf2e25-49df-40e9-f6b9-8e75edd2cf3e"
      },
      "outputs": [
        {
          "output_type": "display_data",
          "data": {
            "text/plain": [
              "<Figure size 432x288 with 1 Axes>"
            ],
            "image/png": "[encoded data removed]"
          },
          "metadata": {
            "needs_background": "light"
          }
        }
      ],
      "source": [
        "import matplotlib.pyplot as plt\n",
        "\n",
        "# 우리나라의 연간 1인당 국민소득을 각각 years, gdp에 저장\n",
        "years = [1950, 1960, 1970, 1980, 1990, 2000, 2010]\n",
        "gdp = [67.0, 80.0, 257.0, 1686.0, 6505, 11865.3, 22105.3]\n",
        "\n",
        "# 선그래프를 그린다. x축에는 years값, y축에는 gdp 값이 표시된다.\n",
        "plt.plot(years, gdp, color ='green', linestyle = 'solid')\n",
        "\n",
        "# 제목을 설정한다.\n",
        "plt.title('GDP per capita') # 1인당 국민소득\n",
        "\n",
        "# y축에 레이블을 붙인다.\n",
        "plt.ylabel('dollars')\n",
        "plt.savefig('gdp_per_capita.png', dpi=600)"
      ]
    },
    {
      "cell_type": "markdown",
      "source": [
        "데이터를 어떻게 활용할 것이고, 어떠한 모습으로 그릴지를 지정하는 것이 plot() 함수이다."
      ],
      "metadata": {
        "id": "dxaCl1vHdigk"
      }
    },
    {
      "cell_type": "markdown",
      "source": [
        "### 맷플롯립 코드 살펴보기"
      ],
      "metadata": {
        "id": "wX3TNf5Ldii2"
      }
    },
    {
      "cell_type": "markdown",
      "source": [
        "이제 앞페이지의 소스를 한 줄 한 줄 설명해보자. matplotlib 패키지에는 pyplot이라는 서브 패키지가 포함되어 있고, 이것을 이용하여 차트를 그릴 수 있다. 차트를 그리기 위한 첫번째 단계는 pyplot 모듈을 불러우ㅘ서 plt 별칭으로 지정하는 것이다."
      ],
      "metadata": {
        "id": "8-G_0Pkcdikx"
      }
    },
    {
      "cell_type": "code",
      "source": [
        "import matplotlib.pyplot as plt"
      ],
      "metadata": {
        "id": "92FJNdrDh4X9"
      },
      "execution_count": 2,
      "outputs": []
    },
    {
      "cell_type": "markdown",
      "source": [
        "차트를 그리려면 데이터가 필요하다. 파일에 저장된 데이터를 읽어서 그릴 수도 있지만 여기서는 파이썬 리스트에 몇 개의 값을 저장하고 이 값으로 차트를 생성한다. 우리가 그리려고 하는 것은 연도별 GDP의 변화이다. 연도는 years 리스트에 담고, x축 데이터로 사용된다. GDP 값은 gdp라는 이름의 리스트를 만들어 데이터를 담게 하고, 이 값이 y축 데이터로 사용된다. "
      ],
      "metadata": {
        "id": "oMPn70yXh-Wa"
      }
    },
    {
      "cell_type": "code",
      "source": [
        "years = [1950, 1960, 1970, 1980, 1990, 2000, 2010]\n",
        "gdp = [67.0, 80.0, 257.0, 1686.0, 6505, 11865.3, 22105.3]"
      ],
      "metadata": {
        "id": "j3pj0xaAiT_q"
      },
      "execution_count": 3,
      "outputs": []
    },
    {
      "cell_type": "markdown",
      "source": [
        "위의 데이터를 이용하여 선형 차트를 만들려면 plt의 plot() 함수를 호출하면 된다. plot()은 x축 데이터와 y축 데이터를 인수로 받는다. 또한 선의 색, 마크의 표시방법, 선의 두께 등을 키워드 인자로 줄 수 있다."
      ],
      "metadata": {
        "id": "8l4GmWkch-Yy"
      }
    },
    {
      "cell_type": "code",
      "source": [
        "plt.plot(years, gdp, color='green', marker='o', linestyle='solid')"
      ],
      "metadata": {
        "id": "4YnKt8W1h8pi"
      },
      "execution_count": null,
      "outputs": []
    },
    {
      "cell_type": "markdown",
      "source": [
        "차트의 제목 레이블을 title()이라는 함수를 통해서 설정한다. 제목은 차트의 최상단에 표시된다."
      ],
      "metadata": {
        "id": "G1IVhW2xh-bW"
      }
    },
    {
      "cell_type": "code",
      "source": [
        "plt.title('GDP per capita')"
      ],
      "metadata": {
        "id": "wE0-Moy-izcx"
      },
      "execution_count": null,
      "outputs": []
    },
    {
      "cell_type": "markdown",
      "source": [
        "ylabel()이라는 함수를 통해 y축 레이블을 넣어주며, savefig()라는 함수를 통해서 파일의 이름과 해상도를 dpi 단위로 지정하면 이미지 파일 저장도 가능하다. show() 함수는 화면에 차트를 표시한다. "
      ],
      "metadata": {
        "id": "7h0eocJ7i5HI"
      }
    },
    {
      "cell_type": "code",
      "source": [
        "plt.ylabel('dollars')\n",
        "plt.savefig('gdp_per_capita.png', dpi = 600)\n",
        "plt.show()"
      ],
      "metadata": {
        "id": "FEyfkRuvi5dp"
      },
      "execution_count": null,
      "outputs": []
    },
    {
      "cell_type": "code",
      "source": [
        "import matplotlib.pyplot as plt\n",
        "\n",
        "# 우리나라의 연간 1인당 국민소득을 각각 years, gdp에 저장\n",
        "years = [1950, 1960, 1970, 1980, 1990, 2000, 2010]\n",
        "gdp = [67.0, 80.0, 257.0, 1686.0, 6505, 11865.3, 22105.3]\n",
        "\n",
        "# 선그래프를 그린다. x축에는 years값, y축에는 gdp 값이 표시된다.\n",
        "plt.plot(years, gdp, color ='green', linestyle = 'solid')\n",
        "\n",
        "# 제목을 설정한다.\n",
        "plt.title('GDP per capita') # 1인당 국민소득\n",
        "\n",
        "# y축에 레이블을 붙인다.\n",
        "plt.ylabel('dollars')\n",
        "plt.savefig('gdp_per_capita.png', dpi=600)\n",
        "plt.show()"
      ],
      "metadata": {
        "colab": {
          "base_uri": "https://localhost:8080/",
          "height": 281
        },
        "id": "f68SWJt9jkCU",
        "outputId": "a1c5ebab-485e-49e6-b945-f0c1156332f3"
      },
      "execution_count": 8,
      "outputs": [
        {
          "output_type": "display_data",
          "data": {
            "text/plain": [
              "<Figure size 432x288 with 1 Axes>"
            ],
            "image/png": "[encoded data removed]"
          },
          "metadata": {
            "needs_background": "light"
          }
        }
      ]
    },
    {
      "cell_type": "markdown",
      "source": [
        "다소 이상한 차트이기는 하지만, 아래와 같이 가로축을 GDP로 하고, 세로축을 연도로 하여 그리는 방법은 아래와 같이 두 데이터의 위치만 바꾸면 된다. "
      ],
      "metadata": {
        "id": "Az4ZYKF5jqVy"
      }
    },
    {
      "cell_type": "code",
      "source": [
        "plt.plot(gdp, years, marker='o', color ='red', linestyle = 'solid')"
      ],
      "metadata": {
        "colab": {
          "base_uri": "https://localhost:8080/",
          "height": 283
        },
        "id": "DLmh2EWijpxL",
        "outputId": "669879d3-c937-4b23-c46c-d5487fb3931f"
      },
      "execution_count": 11,
      "outputs": [
        {
          "output_type": "execute_result",
          "data": {
            "text/plain": [
              "[<matplotlib.lines.Line2D at 0x7f882936a280>]"
            ]
          },
          "metadata": {},
          "execution_count": 11
        },
        {
          "output_type": "display_data",
          "data": {
            "text/plain": [
              "<Figure size 432x288 with 1 Axes>"
            ],
            "image/png": "[encoded data removed]"
          },
          "metadata": {
            "needs_background": "light"
          }
        }
      ]
    },
    {
      "cell_type": "markdown",
      "source": [
        "### 문제"
      ],
      "metadata": {
        "id": "vjVGKyJ2kqju"
      }
    },
    {
      "cell_type": "markdown",
      "source": [
        "y = 2x 그래프를 그려보자. x에 -10에서 10사이의 수 담고, 두번째 리스트는 이 첫번째 리스트의 원소를 이용하여 y 값을 만들어 보자."
      ],
      "metadata": {
        "id": "674BnJd5ksu6"
      }
    },
    {
      "cell_type": "code",
      "source": [
        " x = [x for x in range(-10, 11)]\n",
        " y = [2*x for x in x]"
      ],
      "metadata": {
        "id": "YMdfocjrkrbX"
      },
      "execution_count": 14,
      "outputs": []
    },
    {
      "cell_type": "code",
      "source": [
        "plt.plot(x, y, marker='o')\n",
        "plt.axis([-20, 20, -20, 20])"
      ],
      "metadata": {
        "colab": {
          "base_uri": "https://localhost:8080/",
          "height": 287
        },
        "id": "lZG_tcHSk-kK",
        "outputId": "e79473ab-7c16-4972-f600-9b1c68f683e2"
      },
      "execution_count": 21,
      "outputs": [
        {
          "output_type": "execute_result",
          "data": {
            "text/plain": [
              "(-20.0, 20.0, -20.0, 20.0)"
            ]
          },
          "metadata": {},
          "execution_count": 21
        },
        {
          "output_type": "display_data",
          "data": {
            "text/plain": [
              "<Figure size 432x288 with 1 Axes>"
            ],
            "image/png": "[encoded data removed]"
          },
          "metadata": {
            "needs_background": "light"
          }
        }
      ]
    },
    {
      "cell_type": "markdown",
      "source": [
        "plt.axis([xmin, xmax, ymin, ymax])"
      ],
      "metadata": {
        "id": "WEp9baDBlqLu"
      }
    },
    {
      "cell_type": "markdown",
      "source": [
        "### 차트 장식을 도와주는 다양한 기법들"
      ],
      "metadata": {
        "id": "eTnTXHL1luY4"
      }
    },
    {
      "cell_type": "markdown",
      "source": [
        "이번에는 plot() 함수를 수정하여 한 번의 호출만으로 2x, x**2 + 5, -x*\\*2 - 5 세함수를 그려보도록 하자."
      ],
      "metadata": {
        "id": "otlBjuEQmAz3"
      }
    },
    {
      "cell_type": "code",
      "source": [
        "import matplotlib.pyplot as plt\n",
        "\n",
        "x = [x for x in range(-20, 20)]   # -20에서 20사이의 수를 1의 간격으로 생성\n",
        "y1 = [2*t for t in x]             # 2*x를 원소로 가지는 y1 함수\n",
        "y2 = [t**2 + 5 for t in x]        # x**2 + 5를 원소로 가지는 y2 함수\n",
        "y3 = [-t**2 -5 for t in x]        # -x**2 -5를 원소로 가지는 y3 함수\n",
        "\n",
        "# 빨간색 점선, 녹색 실선과 세모기호, 파란색 별표와 점선으로 각각의 함수를 표현\n",
        "plt.plot(x, y1, 'r--', x, y2, 'g^-', x, y3, 'b*:')\n",
        "plt.axis([-30,30,-30,30])\n",
        "plt.show()"
      ],
      "metadata": {
        "colab": {
          "base_uri": "https://localhost:8080/",
          "height": 269
        },
        "id": "WdmsJ3IDl_UX",
        "outputId": "850b25e6-0346-4ef2-eec8-ed09d43f3b2a"
      },
      "execution_count": 23,
      "outputs": [
        {
          "output_type": "display_data",
          "data": {
            "text/plain": [
              "<Figure size 432x288 with 1 Axes>"
            ],
            "image/png": "[encoded data removed]"
          },
          "metadata": {
            "needs_background": "light"
          }
        }
      ]
    },
    {
      "cell_type": "markdown",
      "source": [
        "matplotlib의 plot() 함수는 쓸모가 많은 함수이다. 이 함수를 호출하여 선을 그릴 수 있는 데, 선의 형태를 다양하게 제어할 수 있다. 예를 들어 'r--'나 'g^-', 'b*:'와 같은 포맷 지정명령을 통해 선의 색깔, 표식의 종류, 선의 형태를 지정할 수도 있다. 위의 예에서 r은 빨강, g는 녹색, b는 파랑을 의미한다. 그리고 --는 점선, -는 실선, :은 짧은 점선을 의미한다. 표식 기호는 데이터가 있는 자리에 따로 표시를 하는 것을 의미한다."
      ],
      "metadata": {
        "id": "69BAwoxUng1h"
      }
    },
    {
      "cell_type": "markdown",
      "source": [
        "### 하나의 차트에 여러 개의 데이터를 그려보자"
      ],
      "metadata": {
        "id": "LdZ35gN2pccH"
      }
    },
    {
      "cell_type": "markdown",
      "source": [
        "하나의 차트에 여러 개의 데이터를 중첩해서 그리는 것도 데이터 분석에 도움이 된다. 예를 들어서 리스트 x를 다음과 같이 선언하고 이를 리스트 x, y, z와 함께 그려보자. 여기에 각 차트를 설명하는 범례(legend)를 추가하면 다음과 같다."
      ],
      "metadata": {
        "id": "h1wjXL9SpiU3"
      }
    },
    {
      "cell_type": "code",
      "source": [
        "import matplotlib.pyplot as plt\n",
        "\n",
        "x = [x for x in range(20)]     # 0에서 20까지의 정수를 생성\n",
        "y = [x**2 for x in range(20)]  # 0에서 20까지의 정수 x에 대해 x 제곱값을 생성\n",
        "z = [x**3 for x in range(20)]  # 0에서 20까지의 정수 x에 대해 x 세제곱값을 생성\n",
        "\n",
        "plt.plot(x, x, label = 'linear')\n",
        "plt.plot(x, y, label = 'quadratic')\n",
        "plt.plot(x, z, label = 'qubic')\n",
        "\n",
        "plt.xlabel('x label')\n",
        "plt.ylabel('y label')\n",
        "plt.title('My Plot')\n",
        "plt.legend() # 디폴트 위치에 범례를 표시한다.\n",
        "plt.show()"
      ],
      "metadata": {
        "colab": {
          "base_uri": "https://localhost:8080/",
          "height": 295
        },
        "id": "NRsBj5GyoIox",
        "outputId": "f0478fe7-0887-4e8a-d6c3-99c65c00dc0e"
      },
      "execution_count": 26,
      "outputs": [
        {
          "output_type": "display_data",
          "data": {
            "text/plain": [
              "<Figure size 432x288 with 1 Axes>"
            ],
            "image/png": "[encoded data removed]"
          },
          "metadata": {
            "needs_background": "light"
          }
        }
      ]
    },
    {
      "cell_type": "code",
      "source": [
        "import matplotlib.pyplot as plt\n",
        "\n",
        "x = [x for x in range(20)]     # 0에서 20까지의 정수를 생성\n",
        "y = [x**2 for x in range(20)]  # 0에서 20까지의 정수 x에 대해 x 제곱값을 생성\n",
        "z = [x**3 for x in range(20)]  # 0에서 20까지의 정수 x에 대해 x 세제곱값을 생성\n",
        "w = [2**x for x in range(20)]\n",
        "\n",
        "plt.plot(x, x, label = 'linear')\n",
        "plt.plot(x, y, label = 'quadratic')\n",
        "plt.plot(x, z, label = 'qubic')\n",
        "plt.plot(x, w, label = 'power')\n",
        "\n",
        "plt.xlabel('x label')\n",
        "plt.ylabel('y label')\n",
        "plt.title('My Plot')\n",
        "plt.legend() # 디폴트 위치에 범례를 표시한다.\n",
        "plt.show()"
      ],
      "metadata": {
        "colab": {
          "base_uri": "https://localhost:8080/",
          "height": 295
        },
        "id": "SlchFl7Jq7nD",
        "outputId": "137bd6cd-8200-4505-d447-dd1fdaf5fe28"
      },
      "execution_count": 28,
      "outputs": [
        {
          "output_type": "display_data",
          "data": {
            "text/plain": [
              "<Figure size 432x288 with 1 Axes>"
            ],
            "image/png": "[encoded data removed]"
          },
          "metadata": {
            "needs_background": "light"
          }
        }
      ]
    },
    {
      "cell_type": "markdown",
      "source": [
        "### 막대형 차트도 손쉽게 그려보자"
      ],
      "metadata": {
        "id": "XBwx4XBIrv1c"
      }
    },
    {
      "cell_type": "markdown",
      "source": [
        "사각형 막대를 이용한 차트이다. 각 막대의 높이는 데이터의 값에 해당한다. 막대형 차트는 여러 가지 카테고리의 값을 비교하고자 할 때 유용하다. plt.bar() 함수를 호출하여 화면에 막대형 차트를 그릴 수 있다. 하나씩 예제로 앞의 1인당 국민소득을 막대 그래프로 그려보자."
      ],
      "metadata": {
        "id": "PrkweboZrv9B"
      }
    },
    {
      "cell_type": "code",
      "source": [
        "# 1인당 국민소득\n",
        "years = [1950, 1960, 1970, 1980, 1990, 2000, 2010]\n",
        "gdp = [67.0, 80.0, 257.0, 1686.0, 6505, 11865.3, 22105.3]\n",
        "\n",
        "plt.bar(range(len(years)), gdp)\n",
        "\n",
        "plt.title('GDP per capita') # 제목을 설정한다.\n",
        "plt.ylabel('dollars')       # y축에 레이블을 붙인다.\n",
        "\n",
        "# y축에 틱을 붙인다.\n",
        "plt.xticks(range(len(years)), years)\n",
        "plt.show()"
      ],
      "metadata": {
        "colab": {
          "base_uri": "https://localhost:8080/",
          "height": 281
        },
        "id": "3T_uerGZq1Ps",
        "outputId": "57b13d52-153d-4ecc-c6e2-8ad75d0a25e1"
      },
      "execution_count": 29,
      "outputs": [
        {
          "output_type": "display_data",
          "data": {
            "text/plain": [
              "<Figure size 432x288 with 1 Axes>"
            ],
            "image/png": "[encoded data removed]"
          },
          "metadata": {
            "needs_background": "light"
          }
        }
      ]
    },
    {
      "cell_type": "markdown",
      "source": [
        "막대형 차트를 그리는 동작은 아래와 같은 코드를 사용한다. 이때 데이터를 담고 있는 리스트 gdp 보다 먼저 나타나는 인자는 range(len(years))이다. range() 함수는 정수의 범위를 생성하는 함수이다. 이 경우 years 리스트가 7개의 항목을 가지고 있으므로 0에서 6까지의 정수 범위를 만든다. 그리고 이 범위가 막대형 차트의 가로축 범위가 되는 것이다."
      ],
      "metadata": {
        "id": "ObMpdjXJsxH5"
      }
    },
    {
      "cell_type": "code",
      "source": [
        "plt.bar(range(len(years)),gdp)"
      ],
      "metadata": {
        "id": "MwS--Af0tXY5"
      },
      "execution_count": null,
      "outputs": []
    },
    {
      "cell_type": "markdown",
      "source": [
        "그런데 차트를 다시 살펴보면, 가로축이 0에서 6까지의 정수가 아니라 연도가 눈금마다 부여된 것을 확인할 수 있다. 이것은 xtick() 함수를 사용하여 가로축 범위의 눈금마다 부여할 눈금값을 지정한 결과이다. 여기서는 아래와 같이 years 리스트의 항목들을 사용한 것이다."
      ],
      "metadata": {
        "id": "NApMHcEHtzDf"
      }
    },
    {
      "cell_type": "code",
      "source": [
        "plt.xticks(range(len(years)), years)"
      ],
      "metadata": {
        "id": "bZnHab7ztcEk"
      },
      "execution_count": null,
      "outputs": []
    },
    {
      "cell_type": "code",
      "source": [
        "# 1인당 국민소득\n",
        "years = [1950, 1960, 1970, 1980, 1990, 2000, 2010]\n",
        "gdp = [67.0, 80.0, 257.0, 1686.0, 6505, 11865.3, 22105.3]\n",
        "\n",
        "plt.bar(years, gdp)\n",
        "\n",
        "plt.title('GDP per capita') # 제목을 설정한다.\n",
        "plt.ylabel('dollars')       # y축에 레이블을 붙인다.\n",
        "\n",
        "# y축에 틱을 붙인다.\n",
        "plt.show()"
      ],
      "metadata": {
        "colab": {
          "base_uri": "https://localhost:8080/",
          "height": 281
        },
        "id": "7ggsseQcuCJq",
        "outputId": "ffc1de04-205a-411a-d202-c722141eae69"
      },
      "execution_count": 32,
      "outputs": [
        {
          "output_type": "display_data",
          "data": {
            "text/plain": [
              "<Figure size 432x288 with 1 Axes>"
            ],
            "image/png": "[encoded data removed]"
          },
          "metadata": {
            "needs_background": "light"
          }
        }
      ]
    },
    {
      "cell_type": "markdown",
      "source": [
        "### 여러나라의 국민소득 추이를 다중 막대형 차트로 그리자"
      ],
      "metadata": {
        "id": "WUOtbiH6uXKk"
      }
    },
    {
      "cell_type": "markdown",
      "source": [
        "앞에서 우리는 우리나라만의 1인당 국민소득 추이를 살펴보았다. 만약 3개 나라의 데이터를 비교하고 싶다면 연도별로 각 국가의 막대 그래프가 하나씩 나타나게 하면 될 것이다. 데이터가 다음과 같이 준비되어 있다고 하자."
      ],
      "metadata": {
        "id": "4bt0tV29ucg5"
      }
    },
    {
      "cell_type": "code",
      "source": [
        "# 1인당 국민소득\n",
        "years = [1965, 1975, 1985, 1995, 2005, 2015]\n",
        "ko = [130, 650, 2450, 11600, 17790, 27250]\n",
        "jp = [890, 5120, 11500, 42130, 40560, 38780]\n",
        "ch = [100, 200, 290, 540, 1760, 7940]"
      ],
      "metadata": {
        "id": "SIdfUpEnubth"
      },
      "execution_count": 33,
      "outputs": []
    },
    {
      "cell_type": "markdown",
      "source": [
        "세개의 막대를 그리기 위해 두께를 0.25로 줄여보자. 그리고 가로축의 범위는 세개의 막대형 차트가 공유해야 하는 것이므로 아래와 같이 변수에 담아 공유해서 사용하자."
      ],
      "metadata": {
        "id": "tU6eKLCnvWDu"
      }
    },
    {
      "cell_type": "code",
      "source": [
        "x_range = range(len(years))\n",
        "plt.bar(x_range, ko, width = 0.25)\n",
        "plt.bar(x_range, jp, width = 0.25)\n",
        "plt.bar(x_range, ch, width = 0.25)\n",
        "plt.xticks(range(len(years)), years)"
      ],
      "metadata": {
        "colab": {
          "base_uri": "https://localhost:8080/",
          "height": 483
        },
        "id": "xN7nOauevNPm",
        "outputId": "858edd6c-2a3f-4d1a-e22a-c29c369d5dfd"
      },
      "execution_count": 36,
      "outputs": [
        {
          "output_type": "execute_result",
          "data": {
            "text/plain": [
              "([<matplotlib.axis.XTick at 0x7f8829375f70>,\n",
              "  <matplotlib.axis.XTick at 0x7f8829375340>,\n",
              "  <matplotlib.axis.XTick at 0x7f88281bcbe0>,\n",
              "  <matplotlib.axis.XTick at 0x7f88282e1100>,\n",
              "  <matplotlib.axis.XTick at 0x7f882940ce20>,\n",
              "  <matplotlib.axis.XTick at 0x7f88283295e0>],\n",
              " [Text(0, 0, '1965'),\n",
              "  Text(0, 0, '1975'),\n",
              "  Text(0, 0, '1985'),\n",
              "  Text(0, 0, '1995'),\n",
              "  Text(0, 0, '2005'),\n",
              "  Text(0, 0, '2015')])"
            ]
          },
          "metadata": {},
          "execution_count": 36
        },
        {
          "output_type": "display_data",
          "data": {
            "text/plain": [
              "<Figure size 432x288 with 1 Axes>"
            ],
            "image/png": "[encoded data removed]"
          },
          "metadata": {
            "needs_background": "light"
          }
        }
      ]
    },
    {
      "cell_type": "markdown",
      "source": [
        "이렇게 하면 막대 그래프가 모두 겹쳐서 나타나서 비교가 되지 않는다. 그래서 각 막대의 가로축 범위를 조금씩 차이를 두는 방법을 사용한다. 그런데 정수 범위를 생성하는 range() 함수의 결과에 실수값을 더하는 것은 불가능하다. 따라서 실수 범위를 생성하는 넘파이의 범위로 변경하여 다음과 같이 완성한다."
      ],
      "metadata": {
        "id": "u0iZHwzJv8v9"
      }
    },
    {
      "cell_type": "code",
      "source": [
        "import numpy as np\n",
        "x_range = np.arange(len(years))\n",
        "plt.bar(x_range, ko, width = 0.25)\n",
        "plt.bar(x_range + 0.3, jp, width = 0.25)\n",
        "plt.bar(x_range + 0.6, ch, width = 0.25)\n",
        "plt.xticks(range(len(years)), years)"
      ],
      "metadata": {
        "colab": {
          "base_uri": "https://localhost:8080/",
          "height": 483
        },
        "id": "2MbNG02UvMrG",
        "outputId": "c52a77d3-5006-4cf2-8ee0-bf22a1047b15"
      },
      "execution_count": 43,
      "outputs": [
        {
          "output_type": "execute_result",
          "data": {
            "text/plain": [
              "([<matplotlib.axis.XTick at 0x7f8827c8f550>,\n",
              "  <matplotlib.axis.XTick at 0x7f8827c8f940>,\n",
              "  <matplotlib.axis.XTick at 0x7f8827d07e20>,\n",
              "  <matplotlib.axis.XTick at 0x7f8827c63700>,\n",
              "  <matplotlib.axis.XTick at 0x7f8827c63c10>,\n",
              "  <matplotlib.axis.XTick at 0x7f8827c6c160>],\n",
              " [Text(0, 0, '1965'),\n",
              "  Text(0, 0, '1975'),\n",
              "  Text(0, 0, '1985'),\n",
              "  Text(0, 0, '1995'),\n",
              "  Text(0, 0, '2005'),\n",
              "  Text(0, 0, '2015')])"
            ]
          },
          "metadata": {},
          "execution_count": 43
        },
        {
          "output_type": "display_data",
          "data": {
            "text/plain": [
              "<Figure size 432x288 with 1 Axes>"
            ],
            "image/png": "[encoded data removed]"
          },
          "metadata": {
            "needs_background": "light"
          }
        }
      ]
    },
    {
      "cell_type": "markdown",
      "source": [
        "### 데이터 점으로 표현하는 산포도 그래프 그리기"
      ],
      "metadata": {
        "id": "Ei9zw71sxudS"
      }
    },
    {
      "cell_type": "markdown",
      "source": [
        "산포도 플롯은 개별 데이터 포인트를 그리는 차트이다. 산포도 그릴 때는 각 데이터 포인트가 연결되지 않는다. 산포도 그래프를 그릴 때는 scatter() 함수를 사용한다."
      ],
      "metadata": {
        "id": "EUnxNXXZxy6Q"
      }
    },
    {
      "cell_type": "code",
      "source": [
        "import matplotlib.pyplot as plt\n",
        "import numpy as np\n",
        "\n",
        "xData = np.arange(20, 50)\n",
        "yData = xData + 2*np.random.randn(30) # xData에 randn() 함수로 잡음을 섞는다.\n",
        "                                      # 잡음은 정규분포로 만들어 질 것이다.\n",
        "\n",
        "plt.scatter(xData, yData)\n",
        "plt.title('Real Age vs Physical Age')\n",
        "plt.xlabel('Real Age')\n",
        "plt.ylabel('Physical Age')\n",
        "\n",
        "plt.savefig('age.png', dpi = 600)\n",
        "plt.show()"
      ],
      "metadata": {
        "colab": {
          "base_uri": "https://localhost:8080/",
          "height": 295
        },
        "id": "tEjvS-zKxtZC",
        "outputId": "43ad8305-cbb8-48e5-8b7b-4f6750cade64"
      },
      "execution_count": 45,
      "outputs": [
        {
          "output_type": "display_data",
          "data": {
            "text/plain": [
              "<Figure size 432x288 with 1 Axes>"
            ],
            "image/png": "[encoded data removed]"
          },
          "metadata": {
            "needs_background": "light"
          }
        }
      ]
    },
    {
      "cell_type": "markdown",
      "source": [
        "### 맛있는 피자가 생각나는 파이 차트"
      ],
      "metadata": {
        "id": "yEZ-gBUI0fAh"
      }
    },
    {
      "cell_type": "markdown",
      "source": [
        "파이 차이는 데이터의 값에 따라서 원형 비율로 나누어져 있는 차트이다. 파이 차트는 비즈니스 세계에서 널리 사용된다. 단순히 영역을 나누기만 한 파이 차트는 각 세션을 비교하기가 어려울 수도 있다. 그래서 보조적으로 차지하고 있는 영역의 데이터나 비율 등을 표시하기도 한다. 파이 차트는 pie() 함수로 그릴 수도 있다. \n",
        "\n",
        "우선 간단하게 파이 차트를 그리는 방법을 살펴보자. 하나의 예로 초등생의 일과표를 원형 차트로 표시해보자. 이 학생의 수면시간, 학습시간, 그리고 놀이 시간의 비중을 보려고 한다. 각각의 차지하는 시간은 다믕과 같다."
      ],
      "metadata": {
        "id": "3seOfGrk0fqZ"
      }
    },
    {
      "cell_type": "code",
      "source": [
        "import matplotlib.pyplot as plt\n",
        "times = [8, 14, 2]"
      ],
      "metadata": {
        "id": "u6e1iFJx1EfB"
      },
      "execution_count": 52,
      "outputs": []
    },
    {
      "cell_type": "markdown",
      "source": [
        "데이터는 있지만, 각가이 무엇인지 확인할 방법이 없다. 이 데이터들에 레이블을 붙이는 것이 중요하다. 각각의 시간이 표시하는 정보를 다음과 같은 레이블로 표시하기로 하자."
      ],
      "metadata": {
        "id": "RRW8dZE81MXY"
      }
    },
    {
      "cell_type": "code",
      "source": [
        "timelabels = ['Sleep', 'Study', 'Play']"
      ],
      "metadata": {
        "id": "zcdcBw_d1WkC"
      },
      "execution_count": 53,
      "outputs": []
    },
    {
      "cell_type": "markdown",
      "source": [
        "이제 pie() 함수를 이용하여 그리면 된다. 이때는 가로 축과 세로 축이 아니라, 데이터와 각 데이터의 레이블이 전달된다. 그리고 해당 영역의 비중을 백분율로 표시하고 싶으면 autopct 키워드 매개변수에 출력 형식을 지정하면 된다."
      ],
      "metadata": {
        "id": "oDyfI8s31VfL"
      }
    },
    {
      "cell_type": "code",
      "source": [
        "# autopct로 백분율을 표시할 때 소수점 2번째 자리까지 표시하게 한다.\n",
        "# labels 매개 변수에 timelabels 리스트를 전달한다.\n",
        "\n",
        "plt.pie(times, labels = timelabels, autopct ='%.2f')"
      ],
      "metadata": {
        "colab": {
          "base_uri": "https://localhost:8080/",
          "height": 411
        },
        "id": "8gWA8dP71wDP",
        "outputId": "6f07847f-659d-442b-9f85-e722145ee5f9"
      },
      "execution_count": 54,
      "outputs": [
        {
          "output_type": "execute_result",
          "data": {
            "text/plain": [
              "([<matplotlib.patches.Wedge at 0x7f8827c7d760>,\n",
              "  <matplotlib.patches.Wedge at 0x7f882818e790>,\n",
              "  <matplotlib.patches.Wedge at 0x7f882818eb20>],\n",
              " [Text(0.5499999702695115, 0.9526279613277875, 'Sleep'),\n",
              "  Text(-0.7778174593052025, -0.7778174593052023, 'Study'),\n",
              "  Text(1.062518393368858, -0.28470100764286227, 'Play')],\n",
              " [Text(0.2999999837833699, 0.5196152516333385, '33.33'),\n",
              "  Text(-0.4242640687119286, -0.42426406871192845, '58.33'),\n",
              "  Text(0.5795554872921043, -0.1552914587142885, '8.33')])"
            ]
          },
          "metadata": {},
          "execution_count": 54
        },
        {
          "output_type": "display_data",
          "data": {
            "text/plain": [
              "<Figure size 432x288 with 1 Axes>"
            ],
            "image/png": "[encoded data removed]"
          },
          "metadata": {}
        }
      ]
    },
    {
      "cell_type": "markdown",
      "source": [
        "### 히스토그램"
      ],
      "metadata": {
        "id": "RE2VufDo2pkm"
      }
    },
    {
      "cell_type": "markdown",
      "source": [
        "히스토그램은 주어진 자료를 몇 개의 구간으로 나누고 각 구간의 도수(frequency)를 조사하여 나타낸 막대 그래프다. 히스토그램은 아주 유용한 시각화 도구로서, 우리는 히스토그램을 통하여 자료의 분포 상태를 한눈에 알아볼 수 있다.\n",
        "\n",
        "예제로 학생 8명이 1년 동안 읽은 책을 조사하여 다음과 같은 표로 나타낸다고 하자."
      ],
      "metadata": {
        "id": "UVRHUVxN26eu"
      }
    },
    {
      "cell_type": "code",
      "source": [
        "books = [1, 6, 2, 3, 1, 2, 0, 2]"
      ],
      "metadata": {
        "id": "dXAD7I9b23ts"
      },
      "execution_count": 55,
      "outputs": []
    },
    {
      "cell_type": "markdown",
      "source": [
        "히스토그램을 만들어주려면 데이터의 값을 동일한 구간으로 나눠야 한다. 데이터가 들어가는 통을 빈이라고 한다. 만약 빈을 6개로 한다면 첫번째 빈은 1권, 두번째 빈은 2권, 여섯 번째 빈은 6권을 의미한다. 이제 각 빈마다 데이터가 몇 개나 있는 지 세면 된다. 각 빈에는 1개, 2개, 3개, 1개, 0개 1개의 데이터가 있는 것을 알 수 있다. 이제 각 빈에 막대를 하나씩 놓으면 된다. 막대의 높이는 빈에 들어있는 데이터의 개수와 동일하다. 이것이 바로 히스토그램이다. 히스토그램은 8개의 데이터가 어떻게 분포되었는지 금방 알 수 있게 해준다."
      ],
      "metadata": {
        "id": "Pw-lzsV23UJG"
      }
    },
    {
      "cell_type": "markdown",
      "source": [
        "히스토그램을 그려보자. matplotlib에서 pyplot 패키지를 가져와서 hist() 함수를 호출하면 된다. hist()에는 많은 매개 변수를 가지고 있지만 가장 중요한 것을 첫 번째 매개 변수 x와 두번째 매개 변수 bins이다. x는 히스토그램을 그리는 데 필요한 파이썬 리스트이다. bins는 빈의 개수이다. hist 함수는 위 숫자를 참조하여 각 빈을 그리게 된다. show() 함수를 호출해주면 히스토그램이 화면에 그려진다."
      ],
      "metadata": {
        "id": "oNEz0gJ_3ULf"
      }
    },
    {
      "cell_type": "code",
      "source": [
        "import matplotlib.pyplot as plt\n",
        "\n",
        "books = [1, 6, 2, 3, 1, 2, 0, 2]\n",
        "\n",
        "# 6개의 빈을 이용하여 books 안에 저장된 자료의 히스토그램 그리기\n",
        "plt.hist(books, bins = 6)\n",
        "\n",
        "plt.xlabel('books')\n",
        "plt.ylabel('frequency')\n",
        "plt.show()"
      ],
      "metadata": {
        "colab": {
          "base_uri": "https://localhost:8080/",
          "height": 279
        },
        "id": "g1maxjCj3RVa",
        "outputId": "9e033767-d463-469c-85c9-4bb88b300223"
      },
      "execution_count": 58,
      "outputs": [
        {
          "output_type": "display_data",
          "data": {
            "text/plain": [
              "<Figure size 432x288 with 1 Axes>"
            ],
            "image/png": "[encoded data removed]"
          },
          "metadata": {
            "needs_background": "light"
          }
        }
      ]
    },
    {
      "cell_type": "markdown",
      "source": [
        "### 다중 히스토그램"
      ],
      "metadata": {
        "id": "2FnilUdv56e2"
      }
    },
    {
      "cell_type": "markdown",
      "source": [
        "다중 히스토그램이란 하나의 차트 위에 여러 개의 히스토그램을 겹치게 그리는 것이다. 예를 들어서 2개의 정규 분포를 하나의 차트 위에 겹쳐서 그려보자."
      ],
      "metadata": {
        "id": "o4DRkXYU5_xi"
      }
    },
    {
      "cell_type": "code",
      "source": [
        "import numpy as np\n",
        "import matplotlib.pyplot as plt\n",
        "\n",
        "n_bins = 10\n",
        "x = np.random.randn(1000)\n",
        "y = np.random.randn(1000)\n",
        "\n",
        "plt.hist(x, n_bins, histtype='bar', color = 'red')\n",
        "plt.hist(y, n_bins, histtype='bar', color = 'blue', alpha = 0.5)\n",
        "plt.show()"
      ],
      "metadata": {
        "colab": {
          "base_uri": "https://localhost:8080/",
          "height": 265
        },
        "id": "8WkGAhvz5_2g",
        "outputId": "c8b9b35f-f19e-4af7-cdaa-22f3aa073f3e"
      },
      "execution_count": 72,
      "outputs": [
        {
          "output_type": "display_data",
          "data": {
            "text/plain": [
              "<Figure size 432x288 with 1 Axes>"
            ],
            "image/png": "[encoded data removed]"
          },
          "metadata": {
            "needs_background": "light"
          }
        }
      ]
    },
    {
      "cell_type": "markdown",
      "source": [
        "위의 코드에서 x에 정규 분포에서 생성된 데이터를 저장하고 y에도 정규 분포에서 생성된 데이터를 저장한다. 빈의 개수는 10으로 한다. 이어서 히스토그램을 그리는 함수 hist()를 x와 y에 대하여 호출한다. 히스토그램이 그려지는 색상이나 차트 타입은 사용자가 지정할 수 있다. alpha는 투명도를 의미한다. 다중 히스토그램은 2개의 변수 사이의 분포를 이해하는데 유용하다."
      ],
      "metadata": {
        "id": "C6VXRbUK7ZdW"
      }
    },
    {
      "cell_type": "markdown",
      "source": [
        "### 문제"
      ],
      "metadata": {
        "id": "HuN_heFQ7uxE"
      }
    },
    {
      "cell_type": "code",
      "source": [
        "import matplotlib.pyplot as plt\n",
        "\n",
        "x = [1,2,3,4,5,6,7,8,9,10]\n",
        "plt.hist(x, bins = 5)\n",
        "plt.show()"
      ],
      "metadata": {
        "colab": {
          "base_uri": "https://localhost:8080/",
          "height": 265
        },
        "id": "ikicJ0NO7wGw",
        "outputId": "b346ebdf-730c-4c4b-8e21-7372962d77d6"
      },
      "execution_count": 81,
      "outputs": [
        {
          "output_type": "display_data",
          "data": {
            "text/plain": [
              "<Figure size 432x288 with 1 Axes>"
            ],
            "image/png": "[encoded data removed]"
          },
          "metadata": {
            "needs_background": "light"
          }
        }
      ]
    },
    {
      "cell_type": "markdown",
      "source": [
        "2. 정규 분포로 난수를 생성하고 이 수들이 어떠한 방식으로 흩어져 있는지를 확인해 보고자 한다. 표준 정규 분포로 난수를 하나 생성해 보고, 다음으로는 평균 10, 표준편차 2인 정규분포로 난수를 생성해 보라. 그리고 마지막으로 평균 -6, 표준편차 3인 정규분포로 난수를 또 생성한다. 그리고 이렇게 생성된 난수들이 어떤 분포를 보이는지 히스토그램을 통해 확인해 보자."
      ],
      "metadata": {
        "id": "dM-5kvEH8jL0"
      }
    },
    {
      "cell_type": "code",
      "source": [
        "import matplotlib.pyplot as plt\n",
        "import numpy as np\n",
        "mp1, sigma1 = 10, 2\n",
        "mp2, sigma2 = -6, 3\n",
        "\n",
        "n_bins = 50\n",
        "first = np.random.randn(10000)\n",
        "second = mp1 + sigma1 * first\n",
        "third = mp2 + sigma2 * first\n",
        "\n",
        "plt.hist(first, n_bins, histtype='bar', color = 'red', alpha = 0.4 )\n",
        "plt.hist(second, n_bins, histtype='bar', color = 'blue', alpha = 0.4 )\n",
        "plt.hist(third, n_bins, histtype='bar', color = 'green', alpha = 0.4 )\n",
        "\n",
        "plt.show()"
      ],
      "metadata": {
        "colab": {
          "base_uri": "https://localhost:8080/",
          "height": 265
        },
        "id": "4ztmLqWu82b2",
        "outputId": "27457170-efa9-411a-c2d5-db532df5cc71"
      },
      "execution_count": 90,
      "outputs": [
        {
          "output_type": "display_data",
          "data": {
            "text/plain": [
              "<Figure size 432x288 with 1 Axes>"
            ],
            "image/png": "[encoded data removed]"
          },
          "metadata": {
            "needs_background": "light"
          }
        }
      ]
    },
    {
      "cell_type": "markdown",
      "source": [
        "### 상자차트"
      ],
      "metadata": {
        "id": "xgxAKHSf_yuP"
      }
    },
    {
      "cell_type": "markdown",
      "source": [
        "상자 차트는 데이터의 최대, 최소, 중간값과 사분위 수 등을 효율적으로 가시화할 수 있는 방법이다. 난수를 이용하여 100 개의 값을 데이터로 준비해 보자. 데이터의 범위를 표시하는 선을 수염이라 불러 상자-수염(box-and-whisker) 차트라고도 한다."
      ],
      "metadata": {
        "id": "QLLaUywy_2wf"
      }
    },
    {
      "cell_type": "code",
      "source": [
        "import numpy as np\n",
        "import matplotlib.pyplot as plt\n",
        "\n",
        "random_data = np.random.randn(100)"
      ],
      "metadata": {
        "id": "9sqi3l_x_3Oo"
      },
      "execution_count": 91,
      "outputs": []
    },
    {
      "cell_type": "markdown",
      "source": [
        "이 데이터를 이용하여 상자 차트를 그리는 것은 boxplot() 함수를 호출하기만 하면 된다."
      ],
      "metadata": {
        "id": "4O_11hSWAQGc"
      }
    },
    {
      "cell_type": "code",
      "source": [
        "plt.boxplot(random_data)\n",
        "plt.show()"
      ],
      "metadata": {
        "colab": {
          "base_uri": "https://localhost:8080/",
          "height": 265
        },
        "id": "HJzfR6wmAVnl",
        "outputId": "0c6d7821-b936-4436-966a-70d460ba5c78"
      },
      "execution_count": 92,
      "outputs": [
        {
          "output_type": "display_data",
          "data": {
            "text/plain": [
              "<Figure size 432x288 with 1 Axes>"
            ],
            "image/png": "[encoded data removed]"
          },
          "metadata": {
            "needs_background": "light"
          }
        }
      ]
    },
    {
      "cell_type": "markdown",
      "source": [
        "여기서 중간의 상자는 중앙값을 중심으로 상위 25%와 하위 25%의 값이 모여 있는 구간을 표시한다. 그리고 붉은 선은 중앙값이다. 상자 밖으로 상하로 직선이 그어져 있고 이를 위와 아래에서 막는 선이 있는데 이것을 위스커 혹은 수염이라고 한다. 아래쪽 위스커에서 위쪽 위스커까지의 범위가 데이터가 분포하는 범위라고 생각하면 된다.  \n",
        "\n",
        "그런데 이 범위 밖에 데이터가 존재하는 경우도 있다. 이것은 이상치라고 한다. 이것은 결국 데이터의 범위를 표시하는 위스커가 데이터 전체를 포함하지 않고 튀는 값은 제외한다는 것을 의미한다. 그러면 위스커의 범위는 어떻게 정할까?\n",
        "\n",
        "상자의 상단인 Q3에서 상자의 하단인 Q1의 값을 뺀 Q3-Q1을 사분범위 혹은 IQR라고 한다. 데잍터가 상자의 상단에서 위로 IQR의 1.5배 이상 위로 올라가면 이상치로 간주한다. 또한 상자의 하단 Q1보다 IQR의 1.5배 이상으로 낮은 값을 보이면 역시 이상치로 분류한다.\n",
        "\n",
        "위스커는 이러한 이상치를 제외하고 남은 데이터의 최대값과 최솟값을 표시하는 것이다.\n",
        "\n"
      ],
      "metadata": {
        "id": "URUT0HvlAfIS"
      }
    },
    {
      "cell_type": "markdown",
      "source": [
        "### 여러 개의 상자 차트 그리기"
      ],
      "metadata": {
        "id": "tR_GYZPwBlmx"
      }
    },
    {
      "cell_type": "markdown",
      "source": [
        "여러 개의 데이터가 있을 때, 이들을 각각 상자 차트로 그리는 일은 어렵지 않다. 다음과 같이 두 종류의 데이터가 준비되어 있다고 하자."
      ],
      "metadata": {
        "id": "TBfzGtbiBqGd"
      }
    },
    {
      "cell_type": "code",
      "source": [
        "import numpy as np\n",
        "import matplotlib.pyplot as plt\n",
        "\n",
        "data1 = [1,2,3,4,5]\n",
        "data2 = [2,3,4,5,6]"
      ],
      "metadata": {
        "id": "2PsRXl7_BW_a"
      },
      "execution_count": 94,
      "outputs": []
    },
    {
      "cell_type": "markdown",
      "source": [
        "이 두 데이터를 각각 상자 차트로 그리려면 리스트로 묶어서 boxplot() 함수에 넘겨 주면 된다. 즉 다음과 같은 코드를 실행하면 될 것이다."
      ],
      "metadata": {
        "id": "xwaPgsNOB4FV"
      }
    },
    {
      "cell_type": "code",
      "source": [
        "plt.boxplot([data1, data2])"
      ],
      "metadata": {
        "colab": {
          "base_uri": "https://localhost:8080/",
          "height": 537
        },
        "id": "Zl9Q6dyHCBMM",
        "outputId": "1b4ad0dc-fa48-487e-e94f-739239f73e68"
      },
      "execution_count": 95,
      "outputs": [
        {
          "output_type": "execute_result",
          "data": {
            "text/plain": [
              "{'whiskers': [<matplotlib.lines.Line2D at 0x7f881c5216a0>,\n",
              "  <matplotlib.lines.Line2D at 0x7f881bdc69a0>,\n",
              "  <matplotlib.lines.Line2D at 0x7f881b6890a0>,\n",
              "  <matplotlib.lines.Line2D at 0x7f881b689b20>],\n",
              " 'caps': [<matplotlib.lines.Line2D at 0x7f881bae0310>,\n",
              "  <matplotlib.lines.Line2D at 0x7f881e6c7b20>,\n",
              "  <matplotlib.lines.Line2D at 0x7f881b689250>,\n",
              "  <matplotlib.lines.Line2D at 0x7f881b76de50>],\n",
              " 'boxes': [<matplotlib.lines.Line2D at 0x7f881c5217c0>,\n",
              "  <matplotlib.lines.Line2D at 0x7f881b689dc0>],\n",
              " 'medians': [<matplotlib.lines.Line2D at 0x7f881bd820d0>,\n",
              "  <matplotlib.lines.Line2D at 0x7f881b76dcd0>],\n",
              " 'fliers': [<matplotlib.lines.Line2D at 0x7f881bd1e310>,\n",
              "  <matplotlib.lines.Line2D at 0x7f881b76d160>],\n",
              " 'means': []}"
            ]
          },
          "metadata": {},
          "execution_count": 95
        },
        {
          "output_type": "display_data",
          "data": {
            "text/plain": [
              "<Figure size 432x288 with 1 Axes>"
            ],
            "image/png": "[encoded data removed]"
          },
          "metadata": {
            "needs_background": "light"
          }
        }
      ]
    },
    {
      "cell_type": "markdown",
      "source": [
        "이 데이터를 넘파이 배열로 바꾸어 넘겨주면 결과가 다르게 나타난다. 넘파이 배열이 주어지면 열 단위로 끊어서 그림을 그리는 것이다."
      ],
      "metadata": {
        "id": "GR8J8c7vCGGr"
      }
    },
    {
      "cell_type": "code",
      "source": [
        "plt.boxplot(np.array([data1, data2]))"
      ],
      "metadata": {
        "colab": {
          "base_uri": "https://localhost:8080/",
          "height": 918
        },
        "id": "fBQBlJP6CEQN",
        "outputId": "07e4dae0-2d9b-44c5-9b6d-f4efdab79f7b"
      },
      "execution_count": 97,
      "outputs": [
        {
          "output_type": "execute_result",
          "data": {
            "text/plain": [
              "{'whiskers': [<matplotlib.lines.Line2D at 0x7f881bb96d90>,\n",
              "  <matplotlib.lines.Line2D at 0x7f881bfccc70>,\n",
              "  <matplotlib.lines.Line2D at 0x7f881bbfa5b0>,\n",
              "  <matplotlib.lines.Line2D at 0x7f881be38340>,\n",
              "  <matplotlib.lines.Line2D at 0x7f881e1234f0>,\n",
              "  <matplotlib.lines.Line2D at 0x7f881e17dac0>,\n",
              "  <matplotlib.lines.Line2D at 0x7f881e666160>,\n",
              "  <matplotlib.lines.Line2D at 0x7f881e43a4c0>,\n",
              "  <matplotlib.lines.Line2D at 0x7f881e2eba00>,\n",
              "  <matplotlib.lines.Line2D at 0x7f881e2ebfd0>],\n",
              " 'caps': [<matplotlib.lines.Line2D at 0x7f881bfb1eb0>,\n",
              "  <matplotlib.lines.Line2D at 0x7f881c26cdf0>,\n",
              "  <matplotlib.lines.Line2D at 0x7f881bcd9e20>,\n",
              "  <matplotlib.lines.Line2D at 0x7f881c0e54c0>,\n",
              "  <matplotlib.lines.Line2D at 0x7f881e62d190>,\n",
              "  <matplotlib.lines.Line2D at 0x7f881bccac10>,\n",
              "  <matplotlib.lines.Line2D at 0x7f881e43a790>,\n",
              "  <matplotlib.lines.Line2D at 0x7f881e43a850>,\n",
              "  <matplotlib.lines.Line2D at 0x7f881e2eb2b0>,\n",
              "  <matplotlib.lines.Line2D at 0x7f881e2eb610>],\n",
              " 'boxes': [<matplotlib.lines.Line2D at 0x7f881be701f0>,\n",
              "  <matplotlib.lines.Line2D at 0x7f881be2aee0>,\n",
              "  <matplotlib.lines.Line2D at 0x7f881e0dc100>,\n",
              "  <matplotlib.lines.Line2D at 0x7f881e6664c0>,\n",
              "  <matplotlib.lines.Line2D at 0x7f881e21c040>],\n",
              " 'medians': [<matplotlib.lines.Line2D at 0x7f881bedf1f0>,\n",
              "  <matplotlib.lines.Line2D at 0x7f881bbdc910>,\n",
              "  <matplotlib.lines.Line2D at 0x7f881beee400>,\n",
              "  <matplotlib.lines.Line2D at 0x7f881e43a8b0>,\n",
              "  <matplotlib.lines.Line2D at 0x7f881e2eb850>],\n",
              " 'fliers': [<matplotlib.lines.Line2D at 0x7f881bf26c70>,\n",
              "  <matplotlib.lines.Line2D at 0x7f881e1a1fa0>,\n",
              "  <matplotlib.lines.Line2D at 0x7f881c0d7760>,\n",
              "  <matplotlib.lines.Line2D at 0x7f881e43adc0>,\n",
              "  <matplotlib.lines.Line2D at 0x7f881c201af0>],\n",
              " 'means': []}"
            ]
          },
          "metadata": {},
          "execution_count": 97
        },
        {
          "output_type": "display_data",
          "data": {
            "text/plain": [
              "<Figure size 432x288 with 1 Axes>"
            ],
            "image/png": "[encoded data removed]"
          },
          "metadata": {
            "needs_background": "light"
          }
        }
      ]
    },
    {
      "cell_type": "markdown",
      "source": [
        "### 한 화면에 여러 그래프 그리기"
      ],
      "metadata": {
        "id": "3eoSE3SuCZc0"
      }
    },
    {
      "cell_type": "markdown",
      "source": [
        "한 화면에 여러 그래프를 나눠서 그리러면 pyplot에 있는 subplots() 함수를 사용한다. plt.subplots(2,2)는 전체 화면을 2x2로 나눈다는 의미가 된다. subplots()의 반환값 중 하나인 ax에는 나누어진 차트들이 들어 있다. ax[0, 0]이라고 하면 2x2 격자에서 첫번째를 의미한다. 이러한 방식으로 각 격자를 인덱싱하여 서로 다른 차트를 그릴 수 있다."
      ],
      "metadata": {
        "id": "whetxis9CdgW"
      }
    },
    {
      "cell_type": "markdown",
      "source": [
        "    matplotlib.pyplot.subplots(n_rows, n_cols,***)"
      ],
      "metadata": {
        "id": "prZb97KaC0pL"
      }
    },
    {
      "cell_type": "code",
      "source": [
        "import matplotlib.pyplot as plt\n",
        "\n",
        "# 개수가 2 x 2개, 크기가 (5, 5) 인치\n",
        "fig, ax = plt.subplots(2, 2, figsize=(5, 5))\n",
        "\n",
        "ax[0, 0].plot(range(10), 'r')\n",
        "ax[0, 1].plot(range(10), 'b')\n",
        "ax[1, 0].plot(range(10), 'g')\n",
        "ax[1, 1].plot(range(10), 'k')\n",
        "plt.show()"
      ],
      "metadata": {
        "colab": {
          "base_uri": "https://localhost:8080/",
          "height": 320
        },
        "id": "lmm7qh62C0x8",
        "outputId": "485b41f4-361d-44ba-c996-1b3e240b96fb"
      },
      "execution_count": 98,
      "outputs": [
        {
          "output_type": "display_data",
          "data": {
            "text/plain": [
              "<Figure size 360x360 with 4 Axes>"
            ],
            "image/png": "[encoded data removed]"
          },
          "metadata": {
            "needs_background": "light"
          }
        }
      ]
    },
    {
      "cell_type": "markdown",
      "source": [
        "또 다른 방법으로 가장 먼저 도식을 하나 생성하고, 이 도식에 서브플롯을 추가하는 add_subplot() 함수를 사용할 수 있다."
      ],
      "metadata": {
        "id": "BgvTNJfPDfxH"
      }
    },
    {
      "cell_type": "code",
      "source": [
        "fig = plt.figure()\n",
        "ax1 = fig.add_subplot(2, 2, 1)\n",
        "ax2 = fig.add_subplot(2, 2, 2)\n",
        "ax3 = fig.add_subplot(2, 2, 3)\n",
        "ax4 = fig.add_subplot(2, 2, 4)"
      ],
      "metadata": {
        "colab": {
          "base_uri": "https://localhost:8080/",
          "height": 269
        },
        "id": "jn6UA0-uC00Z",
        "outputId": "2a856020-56f2-4114-ee6e-d4ea3c51f2e8"
      },
      "execution_count": 99,
      "outputs": [
        {
          "output_type": "display_data",
          "data": {
            "text/plain": [
              "<Figure size 432x288 with 4 Axes>"
            ],
            "image/png": "[encoded data removed]"
          },
          "metadata": {
            "needs_background": "light"
          }
        }
      ]
    },
    {
      "cell_type": "markdown",
      "source": [
        "add_subplot() 함수의 첫 인자는 그려지는 서브플롯의 행 수이고, 두번째 인자는 열 수 이다. 따라서 위의 코드는 2행 2열로 서브플롯을 배치하는 것이다. 마지막 인자는 생성되는 서브플롯의 인덱스로 1부터 시작한다. 인덱스는 행부터 채우며 증가하므로 2행 2열 서브플롯들은 위의 코드 박스 오른쪽이 된다.\n"
      ],
      "metadata": {
        "id": "Qq808OFzD204"
      }
    }
  ]
}