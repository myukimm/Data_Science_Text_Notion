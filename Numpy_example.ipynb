{
  "nbformat": 4,
  "nbformat_minor": 0,
  "metadata": {
    "colab": {
      "provenance": []
    },
    "kernelspec": {
      "name": "python3",
      "display_name": "Python 3"
    },
    "language_info": {
      "name": "python"
    }
  },
  "cells": [
    {
      "cell_type": "markdown",
      "source": [
        "문제 1"
      ],
      "metadata": {
        "id": "aAmmCWOLSyPD"
      }
    },
    {
      "cell_type": "code",
      "execution_count": 21,
      "metadata": {
        "colab": {
          "base_uri": "https://localhost:8080/"
        },
        "id": "0HFnTogRQeUu",
        "outputId": "b720e5d5-cc80-4c14-a0ed-4dddf97ad63d"
      },
      "outputs": [
        {
          "output_type": "stream",
          "name": "stdout",
          "text": [
            "[ 1  2  3  4  5  6  7  8  9 10 11 12 13 14 15 16 17 18 19 20]\n",
            "[20 19 18 17 16 15 14 13 12 11 10  9  8  7  6  5  4  3  2  1]\n",
            "num_arr 내의 모든 원소의 합 : 210\n",
            "[[ 1  2  3  4]\n",
            " [ 5  6  7  8]\n",
            " [ 9 10 11 12]\n",
            " [13 14 15 16]\n",
            " [17 18 19 20]]\n"
          ]
        }
      ],
      "source": [
        "import numpy as np\n",
        "num_arr = np.arange(1, 21)\n",
        "print(num_arr)\n",
        "print(num_arr[::-1]) # np.flip(num_arr)\n",
        "print('num_arr 내의 모든 원소의 합 :', sum(num_arr))\n",
        "print(num_arr.reshape(5,4))"
      ]
    },
    {
      "cell_type": "markdown",
      "source": [
        "문제 2"
      ],
      "metadata": {
        "id": "NSGTMvFHS0gG"
      }
    },
    {
      "cell_type": "code",
      "source": [
        "n_arr = np.arange(0 , 25)\n",
        "a = n_arr.reshape(5,5)\n",
        "a"
      ],
      "metadata": {
        "colab": {
          "base_uri": "https://localhost:8080/"
        },
        "id": "rHgTgCU7SakC",
        "outputId": "c38fce27-8b2d-4bed-eb4a-c56794af43ce"
      },
      "execution_count": 72,
      "outputs": [
        {
          "output_type": "execute_result",
          "data": {
            "text/plain": [
              "array([[ 0,  1,  2,  3,  4],\n",
              "       [ 5,  6,  7,  8,  9],\n",
              "       [10, 11, 12, 13, 14],\n",
              "       [15, 16, 17, 18, 19],\n",
              "       [20, 21, 22, 23, 24]])"
            ]
          },
          "metadata": {},
          "execution_count": 72
        }
      ]
    },
    {
      "cell_type": "code",
      "source": [
        "print('첫 원소 :', a[0, 0])\n",
        "print('마지막 원소 :', a[-1, -1])"
      ],
      "metadata": {
        "colab": {
          "base_uri": "https://localhost:8080/"
        },
        "id": "rpB3oE-JS-Fr",
        "outputId": "57e35be8-2f02-4dae-87d8-30a88641cb76"
      },
      "execution_count": 74,
      "outputs": [
        {
          "output_type": "stream",
          "name": "stdout",
          "text": [
            "첫 원소 : 0\n",
            "마지막 원소 : 24\n"
          ]
        }
      ]
    },
    {
      "cell_type": "code",
      "source": [
        "a[0:2,:]"
      ],
      "metadata": {
        "colab": {
          "base_uri": "https://localhost:8080/"
        },
        "id": "jGbMlHh4Wb_j",
        "outputId": "9e5905fa-033d-4c2c-8455-0c19036697fc"
      },
      "execution_count": 78,
      "outputs": [
        {
          "output_type": "execute_result",
          "data": {
            "text/plain": [
              "array([[0, 1, 2, 3, 4],\n",
              "       [5, 6, 7, 8, 9]])"
            ]
          },
          "metadata": {},
          "execution_count": 78
        }
      ]
    },
    {
      "cell_type": "code",
      "source": [
        "a[2:,:]"
      ],
      "metadata": {
        "colab": {
          "base_uri": "https://localhost:8080/"
        },
        "id": "_DwzjHA_Z3ry",
        "outputId": "19a8584a-b6d0-469e-c26b-460d58a3659c"
      },
      "execution_count": 82,
      "outputs": [
        {
          "output_type": "execute_result",
          "data": {
            "text/plain": [
              "array([[10, 11, 12, 13, 14],\n",
              "       [15, 16, 17, 18, 19],\n",
              "       [20, 21, 22, 23, 24]])"
            ]
          },
          "metadata": {},
          "execution_count": 82
        }
      ]
    },
    {
      "cell_type": "markdown",
      "source": [
        "문제 3"
      ],
      "metadata": {
        "id": "EiQpriPdWv_x"
      }
    },
    {
      "cell_type": "code",
      "source": [
        "a = np.random.rand(3,3,3)\n",
        "a"
      ],
      "metadata": {
        "colab": {
          "base_uri": "https://localhost:8080/"
        },
        "id": "I9mjKPxdWq8g",
        "outputId": "7331b1a1-0ed6-43dd-b388-25f158ed6990"
      },
      "execution_count": 90,
      "outputs": [
        {
          "output_type": "execute_result",
          "data": {
            "text/plain": [
              "array([[[0.33769905, 0.12724056, 0.25545703],\n",
              "        [0.35054924, 0.64982237, 0.78590442],\n",
              "        [0.74914081, 0.12660008, 0.9220187 ]],\n",
              "\n",
              "       [[0.38541063, 0.44338894, 0.56175542],\n",
              "        [0.59515299, 0.12277043, 0.65037531],\n",
              "        [0.79706705, 0.55067777, 0.03293994]],\n",
              "\n",
              "       [[0.19820907, 0.42793742, 0.05494331],\n",
              "        [0.21326991, 0.46694683, 0.71148699],\n",
              "        [0.96341047, 0.63391717, 0.06947389]]])"
            ]
          },
          "metadata": {},
          "execution_count": 90
        }
      ]
    },
    {
      "cell_type": "code",
      "source": [
        "print('a의 원소들 중 최대값 :', a.max())"
      ],
      "metadata": {
        "colab": {
          "base_uri": "https://localhost:8080/"
        },
        "id": "MhDB1ZqUaGw1",
        "outputId": "43d0f4fa-dd26-4c9c-cfe7-940a65ee97ca"
      },
      "execution_count": 91,
      "outputs": [
        {
          "output_type": "stream",
          "name": "stdout",
          "text": [
            "a의 원소들 중 최대값 : 0.9634104697317718\n"
          ]
        }
      ]
    },
    {
      "cell_type": "code",
      "source": [
        "print('a의 원소들 중 최대값 :', a.argmax())"
      ],
      "metadata": {
        "colab": {
          "base_uri": "https://localhost:8080/"
        },
        "id": "kQ08AaY_agv1",
        "outputId": "689efa4e-8a52-4617-ac5c-d46577aaebf3"
      },
      "execution_count": 92,
      "outputs": [
        {
          "output_type": "stream",
          "name": "stdout",
          "text": [
            "a의 원소들 중 최대값 : 24\n"
          ]
        }
      ]
    }
  ]
}